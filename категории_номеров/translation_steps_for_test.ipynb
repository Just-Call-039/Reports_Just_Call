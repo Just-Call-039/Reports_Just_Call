{
 "cells": [
  {
   "cell_type": "code",
   "execution_count": 4,
   "id": "3e4e173f",
   "metadata": {},
   "outputs": [
    {
     "name": "stdout",
     "output_type": "stream",
     "text": [
      "   step  ochered\n",
      "0    91     9298\n",
      "1    93     9088\n",
      "2    91     9088\n",
      "3    95     9021\n",
      "4   381     9021\n",
      "\n",
      "Ушло времени на все файлы: 0.093 сек.\n",
      "OK\n"
     ]
    }
   ],
   "source": [
    "import pandas as pd\n",
    "import time\n",
    "\n",
    "from tqdm import tqdm\n",
    "from clickhouse_driver import Client\n",
    "\n",
    "tqdm.pandas()\n",
    "\n",
    "pd.options.mode.chained_assignment = None\n",
    "\n",
    "start_time = time.time()\n",
    "\n",
    "path = r'D:\\Отчеты\\категории_номеров\\translation_steps_for_test.csv'\n",
    "\n",
    "client_click = Client(host='192.168.1.99', port='9000', user='default', password='jdfwl6812hwe',\n",
    "                database='suitecrm_robot_ch', settings={'use_numpy': True})\n",
    "\n",
    "df = pd.read_csv(path, sep=';', encoding='utf-8', low_memory=False)\n",
    "print(df.head())\n",
    "\n",
    "client_click.insert_dataframe('INSERT INTO suitecrm_robot_ch.translation_steps_for_test VALUES', df)\n",
    "\n",
    "end_time = time.time()\n",
    "print()\n",
    "print(f'Ушло времени на все файлы: {round(end_time - start_time, 3)} сек.')\n",
    "print('OK')\n"
   ]
  }
 ],
 "metadata": {
  "kernelspec": {
   "display_name": "Python 3 (ipykernel)",
   "language": "python",
   "name": "python3"
  },
  "language_info": {
   "codemirror_mode": {
    "name": "ipython",
    "version": 3
   },
   "file_extension": ".py",
   "mimetype": "text/x-python",
   "name": "python",
   "nbconvert_exporter": "python",
   "pygments_lexer": "ipython3",
   "version": "3.9.12"
  }
 },
 "nbformat": 4,
 "nbformat_minor": 5
}
