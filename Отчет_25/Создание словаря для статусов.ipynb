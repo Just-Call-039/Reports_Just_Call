{
 "cells": [
  {
   "cell_type": "code",
   "execution_count": 1,
   "id": "08880511",
   "metadata": {},
   "outputs": [
    {
     "name": "stdout",
     "output_type": "stream",
     "text": [
      "Введите название и расширение файла на чтение: Status.csv\n",
      "Создан файл Status_dict.csv.\n",
      "Время обработки и создания словаря: 0.03 сек.\n"
     ]
    }
   ],
   "source": [
    "import time\n",
    "\n",
    "\n",
    "# Функция для очистки значения от лишних символов (пробелы, кавычки).\n",
    "def my_c(i):\n",
    "    i = i.strip().strip(\"''\").strip('\"\"')\n",
    "    return i\n",
    "\n",
    "\n",
    "# Функция для отображения статуса. Необходимо передать очередь и последний шаг.\n",
    "def my_status(ochered, key):\n",
    "    for now in status_dict[ochered].keys():\n",
    "        if key in now.split(','):\n",
    "            return status[status_dict[ochered][now]]\n",
    "\n",
    "\n",
    "status_dict = {}\n",
    "# Мертвые шаги.\n",
    "dead_steps = ['0', '1', '111', '261', '262']\n",
    "# Исходный файл с очередями и статусами.\n",
    "my_file = input('Введите название и расширение файла на чтение: ')\n",
    "\n",
    "start_time = time.time()\n",
    "\n",
    "# Открытие исходного файла.\n",
    "with open(my_file, encoding='utf-8') as file:\n",
    "    # Итерация по строкам.\n",
    "    for now in file:\n",
    "        # Разделение строки по \";\".\n",
    "        now = [my_c(i) for i in now.split(';')]\n",
    "\n",
    "        # Если первое значение - слово, передаем статусы в список.\n",
    "        if now[0].isalpha():\n",
    "            status = [my_c(i) for i in now]\n",
    "            continue\n",
    "\n",
    "        # Далее записываем словарь с ключом - очередь, значениями - последний шаг,\n",
    "        # к последнему шагу - код (индекс статуса из списка со статусами).\n",
    "        status_dict[now[0]] = {now[i]: i for i in range(1, len(status))}\n",
    "\n",
    "to_file = 'Status_dict.csv'\n",
    "print(f'Создан файл {to_file}.')\n",
    "\n",
    "# Открытие файла на запись.\n",
    "with open(to_file, 'w', encoding='utf-8') as to_file:\n",
    "    to_file.write('ochered;last_step;status;alive\\n')\n",
    "    # Итерация по ключам (очередям).\n",
    "    for now in status_dict:\n",
    "        # Итерация по спискам шагов.\n",
    "        for step in status_dict[now].keys():\n",
    "            # Выделение одного последнего шага из списка.\n",
    "            for last_step in step.split(','):\n",
    "                if last_step in dead_steps:\n",
    "                    alive = 0\n",
    "                else:\n",
    "                    alive = 1\n",
    "                # Запись в файл. Очередь, последний шаг, статус.\n",
    "                to_file.write(f'{now};{last_step};{my_status(now, last_step)};{alive}\\n')\n",
    "\n",
    "print(f'Время обработки и создания словаря: {round(time.time() - start_time, 3)} сек.')\n"
   ]
  },
  {
   "cell_type": "code",
   "execution_count": null,
   "id": "daeb7580",
   "metadata": {},
   "outputs": [],
   "source": []
  }
 ],
 "metadata": {
  "kernelspec": {
   "display_name": "Python 3 (ipykernel)",
   "language": "python",
   "name": "python3"
  },
  "language_info": {
   "codemirror_mode": {
    "name": "ipython",
    "version": 3
   },
   "file_extension": ".py",
   "mimetype": "text/x-python",
   "name": "python",
   "nbconvert_exporter": "python",
   "pygments_lexer": "ipython3",
   "version": "3.9.7"
  }
 },
 "nbformat": 4,
 "nbformat_minor": 5
}
