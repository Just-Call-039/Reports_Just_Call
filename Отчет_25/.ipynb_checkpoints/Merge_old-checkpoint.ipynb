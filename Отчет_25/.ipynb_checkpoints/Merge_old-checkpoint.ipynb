{
 "cells": [
  {
   "cell_type": "code",
   "execution_count": 1,
   "id": "55b3f3bb",
   "metadata": {
    "scrolled": false
   },
   "outputs": [
    {
     "name": "stdout",
     "output_type": "stream",
     "text": [
      "Введите название и расширение файла БД на чтение: Total_calls.csv\n",
      "Создание словаря с технической возможностью начато в: 11:29:13\n",
      "Словарь создан в: 11:29:13\n",
      "Ушло времени: 0.024 сек.\n"
     ]
    },
    {
     "name": "stderr",
     "output_type": "stream",
     "text": [
      "100%|██████████| 20995352/20995352 [18:56<00:00, 18477.55it/s]\n"
     ]
    },
    {
     "name": "stdout",
     "output_type": "stream",
     "text": [
      "<class 'pandas.core.frame.DataFrame'>\n",
      "Int64Index: 20995352 entries, 0 to 20995351\n",
      "Data columns (total 19 columns):\n",
      " #   Column           Dtype \n",
      "---  ------           ----- \n",
      " 0   my_date          object\n",
      " 1   uniqueid         object\n",
      " 2   ochered          int64 \n",
      " 3   last_step        int64 \n",
      " 4   route            object\n",
      " 5   billsec          int64 \n",
      " 6   client_status    object\n",
      " 7   otkaz            object\n",
      " 8   directory        object\n",
      " 9   server_number    int64 \n",
      " 10  city_c           object\n",
      " 11  ptv_c            object\n",
      " 12  marker           int64 \n",
      " 13  was_repeat       int64 \n",
      " 14  phone            int64 \n",
      " 15  teh_vozmozhnost  object\n",
      " 16  region           object\n",
      " 17  status           object\n",
      " 18  alive            int64 \n",
      "dtypes: int64(8), object(11)\n",
      "memory usage: 3.1+ GB\n",
      "Время обработки и создания файлов: 2140.224 сек.\n",
      "Создан файл: F_result.csv 12:04:53\n"
     ]
    }
   ],
   "source": [
    "import pandas as pd\n",
    "import time\n",
    "from tqdm import tqdm\n",
    "tqdm.pandas()\n",
    "\n",
    "\n",
    "# Функция для проверки технической возможности.\n",
    "# Необходимо передать очередь, was_rep, шаги.\n",
    "def teh_v(o, was_rep, route):\n",
    "    value = None\n",
    "    # Статус \"Не проверялось\".\n",
    "    if was_rep == 0:\n",
    "        return \"Didn't check\"\n",
    "    else:\n",
    "        route = route.split(',')\n",
    "        o = str(o)\n",
    "        # Проверка, находится ли очередь в словаре \"Есть техническая возможность\".\n",
    "        if o in est_tehv:\n",
    "            for i in route:\n",
    "                if i in est_tehv[o]:\n",
    "                    value = 1\n",
    "        if o in net_tehv:\n",
    "            for i in route:\n",
    "                if i in net_tehv[o]:\n",
    "                    value = 0\n",
    "        if value == 1 or value == 0:\n",
    "            return value\n",
    "        else:\n",
    "            return \"Don't know\"\n",
    "\n",
    "\n",
    "l_f = input('Введите название и расширение файла БД на чтение: ')\n",
    "# r_f = input('Введите название и расширение файла со статусами на чтение: ')\n",
    "r_f = 'Status_dict.csv'\n",
    "start_time = time.time()\n",
    "\n",
    "net_tehv = dict()\n",
    "est_tehv = dict()\n",
    "# my_columns = ['my_date', 'uniqueid', 'queue', 'last_step', 'route', 'billsec', 'client_status', 'otkaz', 'directory', 'server_number', 'city_c', 'ptv_c', 'marker', 'was_repeat', 'phone', 'teh_vozmozhnost', 'region', 'status', 'alive']\n",
    "\n",
    "print(f'Создание словаря с технической возможностью начато в: {time.strftime(\"%X\")}')\n",
    "with open('Status_dict.csv') as status:\n",
    "    for now in status:\n",
    "        now = now.split(';')\n",
    "        o, step, stat = now[0], now[1], now[2]\n",
    "        if stat == 'net_teh_vozmozhnosti':\n",
    "            if o in net_tehv:\n",
    "                net_tehv[o].add(step)\n",
    "            else:\n",
    "                net_tehv[o] = set()\n",
    "                net_tehv[o].add(step)\n",
    "        elif stat == 'est_teh_vozmozhnost':\n",
    "            if o in est_tehv:\n",
    "                est_tehv[o].add(step)\n",
    "            else:\n",
    "                est_tehv[o] = set()\n",
    "                est_tehv[o].add(step)\n",
    "print(f'Словарь создан в: {time.strftime(\"%X\")}')\n",
    "print(f'Ушло времени: {round(time.time() - start_time, 3)} сек.')\n",
    "\n",
    "# left = pd.read_csv(l_f, sep=';', nrows=100000)\n",
    "left = pd.read_csv(l_f, sep=';')\n",
    "city = pd.read_excel('Макрорегионы.xlsx')\n",
    "right = pd.read_csv(r_f, sep=';')\n",
    "\n",
    "left['teh_vozmozhnost'] = left.progress_apply(lambda x: teh_v(x['ochered'], x['was_repeat'], x['route']), axis=1)\n",
    "left = pd.merge(left, city[['city_c', 'Область']], left_on = 'city_c', right_on = 'city_c', how='left')\n",
    "\n",
    "result = pd.merge(left, right, left_on=['ochered', 'last_step'], right_on=['ochered', 'last_step'], how='left')\n",
    "# result = pd.DataFrame(result, columns = my_columns)\n",
    "result['alive'] = result['alive'].fillna(1)\n",
    "result = result.astype({'alive': 'int64'})\n",
    "result.rename(columns = {'Область' : 'region'}, inplace = True)\n",
    "\n",
    "result.info()\n",
    "\n",
    "result.to_csv('F_result.csv', index=False, sep=';', encoding='utf-8')\n",
    "\n",
    "print(f'Создан файл: F_result.csv {time.strftime(\"%X\")}')\n",
    "print(f'Время обработки и создания файлов: {round(time.time() - start_time, 3)} сек.')\n"
   ]
  },
  {
   "cell_type": "code",
   "execution_count": null,
   "id": "65f2c5e1",
   "metadata": {},
   "outputs": [],
   "source": []
  }
 ],
 "metadata": {
  "kernelspec": {
   "display_name": "Python 3 (ipykernel)",
   "language": "python",
   "name": "python3"
  },
  "language_info": {
   "codemirror_mode": {
    "name": "ipython",
    "version": 3
   },
   "file_extension": ".py",
   "mimetype": "text/x-python",
   "name": "python",
   "nbconvert_exporter": "python",
   "pygments_lexer": "ipython3",
   "version": "3.9.7"
  }
 },
 "nbformat": 4,
 "nbformat_minor": 5
}
